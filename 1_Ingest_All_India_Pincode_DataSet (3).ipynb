{
 "cells": [
  {
   "cell_type": "markdown",
   "metadata": {
    "application/vnd.databricks.v1+cell": {
     "cellMetadata": {},
     "inputWidgets": {},
     "nuid": "e5f77c17-f50d-49d5-b7ee-a805089aa998",
     "showTitle": false,
     "title": ""
    }
   },
   "source": [
    "#### Ingest all_india_pincode_ds.csv"
   ]
  },
  {
   "cell_type": "markdown",
   "metadata": {
    "application/vnd.databricks.v1+cell": {
     "cellMetadata": {},
     "inputWidgets": {},
     "nuid": "437e1ace-88c0-4837-8688-2c4eeb473854",
     "showTitle": false,
     "title": ""
    }
   },
   "source": [
    "####Read CSV file using Dataframe Reader API & Write to Parquet file using Dataframe Writer API\n",
    "\n",
    "1. Read the CSV file into a dataframe\n",
    "2. Fix the header \n",
    "3. Create a explicit schema\n",
    "4. Rename columns\n",
    "5. Drop Columns\n",
    "6. Insert a new column\n",
    "7. write data to single Parquet file\n",
    "8. write data to multiple Parquet file"
   ]
  },
  {
   "cell_type": "code",
   "execution_count": 0,
   "metadata": {
    "application/vnd.databricks.v1+cell": {
     "cellMetadata": {},
     "inputWidgets": {},
     "nuid": "992592d1-b9c1-4308-a278-0f6569181d73",
     "showTitle": false,
     "title": ""
    }
   },
   "outputs": [],
   "source": [
    "dbutils.fs.mounts()"
   ]
  },
  {
   "cell_type": "code",
   "execution_count": 0,
   "metadata": {
    "application/vnd.databricks.v1+cell": {
     "cellMetadata": {},
     "inputWidgets": {},
     "nuid": "337801e9-8d8f-40bc-8cd9-6e0304ca50d4",
     "showTitle": false,
     "title": ""
    }
   },
   "outputs": [],
   "source": [
    "display(dbutils.fs.mounts())"
   ]
  },
  {
   "cell_type": "code",
   "execution_count": 0,
   "metadata": {
    "application/vnd.databricks.v1+cell": {
     "cellMetadata": {},
     "inputWidgets": {},
     "nuid": "4d000ea9-c0d5-41db-b082-894517266775",
     "showTitle": false,
     "title": ""
    }
   },
   "outputs": [],
   "source": [
    "pincode_df = spark.read.csv(\"/mnt/goverencedl/raw/all_india_pincode_ds.csv\")"
   ]
  },
  {
   "cell_type": "code",
   "execution_count": 0,
   "metadata": {
    "application/vnd.databricks.v1+cell": {
     "cellMetadata": {},
     "inputWidgets": {},
     "nuid": "c1954154-d3c3-41d0-8fac-6bbdcb4d040e",
     "showTitle": false,
     "title": ""
    }
   },
   "outputs": [],
   "source": [
    "display(pincode_df)"
   ]
  },
  {
   "cell_type": "code",
   "execution_count": 0,
   "metadata": {
    "application/vnd.databricks.v1+cell": {
     "cellMetadata": {},
     "inputWidgets": {},
     "nuid": "cd21692c-218f-4d4c-8194-eedce359b079",
     "showTitle": false,
     "title": ""
    }
   },
   "outputs": [],
   "source": [
    "pincode_df = spark.read.csv(\"/mnt/goverencedl/raw/all_india_pincode_ds.csv\")"
   ]
  },
  {
   "cell_type": "code",
   "execution_count": 0,
   "metadata": {
    "application/vnd.databricks.v1+cell": {
     "cellMetadata": {},
     "inputWidgets": {},
     "nuid": "a1673a04-ae76-49ac-847d-52e826cd1ccd",
     "showTitle": false,
     "title": ""
    }
   },
   "outputs": [],
   "source": [
    "pincode_df = spark.read.option(\"header\", True).csv(\"/mnt/goverencedl/raw/all_india_pincode_ds.csv\")"
   ]
  },
  {
   "cell_type": "code",
   "execution_count": 0,
   "metadata": {
    "application/vnd.databricks.v1+cell": {
     "cellMetadata": {},
     "inputWidgets": {},
     "nuid": "1b878b58-cf03-4a5c-bd68-c3f498678e56",
     "showTitle": false,
     "title": ""
    }
   },
   "outputs": [],
   "source": [
    "type(pincode_df)"
   ]
  },
  {
   "cell_type": "code",
   "execution_count": 0,
   "metadata": {
    "application/vnd.databricks.v1+cell": {
     "cellMetadata": {},
     "inputWidgets": {},
     "nuid": "90ca68b4-a559-4947-84d9-ca282a2f5a8e",
     "showTitle": false,
     "title": ""
    }
   },
   "outputs": [],
   "source": [
    "display(pincode_df)"
   ]
  },
  {
   "cell_type": "code",
   "execution_count": 0,
   "metadata": {
    "application/vnd.databricks.v1+cell": {
     "cellMetadata": {},
     "inputWidgets": {},
     "nuid": "309c23cd-6e0f-47d9-9735-4c2e04ed116a",
     "showTitle": false,
     "title": ""
    }
   },
   "outputs": [],
   "source": [
    "display(pincode_df)"
   ]
  },
  {
   "cell_type": "code",
   "execution_count": 0,
   "metadata": {
    "application/vnd.databricks.v1+cell": {
     "cellMetadata": {},
     "inputWidgets": {},
     "nuid": "322044c3-5aae-42ee-bd9c-8978da2c7dc7",
     "showTitle": false,
     "title": ""
    }
   },
   "outputs": [],
   "source": [
    "pincode_df_header = spark.read.option(\"header\", True).csv(\"/mnt/goverencedl/raw/all_india_pincode_ds.csv\")"
   ]
  },
  {
   "cell_type": "code",
   "execution_count": 0,
   "metadata": {
    "application/vnd.databricks.v1+cell": {
     "cellMetadata": {},
     "inputWidgets": {},
     "nuid": "c142b1b1-511e-409d-8ee2-1334543613c5",
     "showTitle": false,
     "title": ""
    }
   },
   "outputs": [],
   "source": [
    "pincode_df.printSchema()"
   ]
  },
  {
   "cell_type": "code",
   "execution_count": 0,
   "metadata": {
    "application/vnd.databricks.v1+cell": {
     "cellMetadata": {},
     "inputWidgets": {},
     "nuid": "f392e1bd-ebfd-44ab-b8b1-4eba0e00ceea",
     "showTitle": false,
     "title": ""
    }
   },
   "outputs": [],
   "source": [
    "display(pincode_df_header)"
   ]
  },
  {
   "cell_type": "code",
   "execution_count": 0,
   "metadata": {
    "application/vnd.databricks.v1+cell": {
     "cellMetadata": {},
     "inputWidgets": {},
     "nuid": "a36c87ee-73b0-42b5-939a-681feb5a5c6c",
     "showTitle": false,
     "title": ""
    }
   },
   "outputs": [],
   "source": [
    "from pyspark.sql.types import StructType, StructField, IntegerType, StringType"
   ]
  },
  {
   "cell_type": "code",
   "execution_count": 0,
   "metadata": {
    "application/vnd.databricks.v1+cell": {
     "cellMetadata": {},
     "inputWidgets": {},
     "nuid": "f5282b1b-e6db-4833-869b-f8dcfeff09b2",
     "showTitle": false,
     "title": ""
    }
   },
   "outputs": [],
   "source": [
    "pincode_df_header.printSchema()"
   ]
  },
  {
   "cell_type": "code",
   "execution_count": 0,
   "metadata": {
    "application/vnd.databricks.v1+cell": {
     "cellMetadata": {},
     "inputWidgets": {},
     "nuid": "b99abce3-0bb8-4cf0-b230-61a844485c92",
     "showTitle": false,
     "title": ""
    }
   },
   "outputs": [],
   "source": [
    "from pyspark.sql.types import StructType, StructField, IntegerType, StringType"
   ]
  },
  {
   "cell_type": "code",
   "execution_count": 0,
   "metadata": {
    "application/vnd.databricks.v1+cell": {
     "cellMetadata": {},
     "inputWidgets": {},
     "nuid": "a0338799-acc1-403a-9dfd-90636c7f33d4",
     "showTitle": false,
     "title": ""
    }
   },
   "outputs": [],
   "source": [
    "pincode_schema = StructType (fields=[StructField(\"officename\", StringType(), False),\n",
    "                                     StructField(\"pincode\", IntegerType(), False),\n",
    "                                     StructField(\"officeType\", StringType(), False),\n",
    "                                     StructField(\"Deliverystatus\", StringType(), False),\n",
    "                                     StructField(\"divisionname\", StringType(), False),\n",
    "                                     StructField(\"regionname\", StringType(), False),\n",
    "                                     StructField(\"circlename\", StringType(), False),\n",
    "                                     StructField(\"Taluk\", StringType(), False),\n",
    "                                     StructField(\"Districtname\", StringType(), False),\n",
    "                                     StructField(\"statename\", StringType(), False),\n",
    "                                     StructField(\"Telephone\", StringType(), False),\n",
    "                                     StructField(\"Related Suboffice\", StringType(), False),\n",
    "                                     StructField(\"Related Headoffice\", StringType(), False),\n",
    "                                     StructField(\"longitude\", StringType(), False),\n",
    "                                     StructField(\"latitude\", StringType(), False)\n",
    "])"
   ]
  },
  {
   "cell_type": "code",
   "execution_count": 0,
   "metadata": {
    "application/vnd.databricks.v1+cell": {
     "cellMetadata": {},
     "inputWidgets": {},
     "nuid": "cb5d5021-581a-42d4-89fa-6fb8c3e139d3",
     "showTitle": false,
     "title": ""
    }
   },
   "outputs": [],
   "source": [
    "pincode_schema = StructType (fields=[StructField(\"officename\", StringType(), False),\n",
    "                                     StructField(\"pincode\", IntegerType(), False),\n",
    "                                     StructField(\"officeType\", StringType(), False),\n",
    "                                     StructField(\"Deliverystatus\", StringType(), False),\n",
    "                                     StructField(\"divisionname\", StringType(), False),\n",
    "                                     StructField(\"regionname\", StringType(), False),\n",
    "                                     StructField(\"circlename\", StringType(), False),\n",
    "                                     StructField(\"Taluk\", StringType(), False),\n",
    "                                     StructField(\"Districtname\", StringType(), False),\n",
    "                                     StructField(\"statename\", StringType(), False),\n",
    "                                     StructField(\"Related Suboffice\", StringType(), False),\n",
    "                                     StructField(\"Related Headoffice\", StringType(), False),\n",
    "                                     StructField(\"longitude\", StringType(), False),\n",
    "                                     StructField(\"latitude\", StringType(), False)\n",
    "])"
   ]
  },
  {
   "cell_type": "code",
   "execution_count": 0,
   "metadata": {
    "application/vnd.databricks.v1+cell": {
     "cellMetadata": {},
     "inputWidgets": {},
     "nuid": "5a2bb73b-f179-4879-b865-8b7972bd79d9",
     "showTitle": false,
     "title": ""
    }
   },
   "outputs": [],
   "source": [
    "pincode_df = spark.read \\\n",
    "    .option(\"header\", True) \\\n",
    "    .schema(pincode_schema) \\\n",
    "    .csv(\"/mnt/goverencedl/raw/all_india_pincode_ds.csv\")"
   ]
  },
  {
   "cell_type": "code",
   "execution_count": 0,
   "metadata": {
    "application/vnd.databricks.v1+cell": {
     "cellMetadata": {},
     "inputWidgets": {},
     "nuid": "0506c3d8-a39a-4b33-8b7c-0ce27d3a100a",
     "showTitle": false,
     "title": ""
    }
   },
   "outputs": [],
   "source": [
    "pincode_df_header = spark.read \\\n",
    "    .option(\"header\", True) \\\n",
    "    .schema(pincode_schema) \\\n",
    "    .csv(\"/mnt/goverencedl/raw/all_india_pincode_ds.csv\")"
   ]
  },
  {
   "cell_type": "code",
   "execution_count": 0,
   "metadata": {
    "application/vnd.databricks.v1+cell": {
     "cellMetadata": {},
     "inputWidgets": {},
     "nuid": "d1dccb59-36fe-4b1a-93b7-56105ca70eeb",
     "showTitle": false,
     "title": ""
    }
   },
   "outputs": [],
   "source": [
    "pincode_df_renamed = pincode_df.withColumnRenamed(\"officename\", \"office\") \\\n",
    ".withColumnRenamed(\"officeType\", \"type\") \\\n",
    ".withColumnRenamed(\"Deliverystatus\", \"status\") \\\n",
    ".withColumnRenamed(\"divisionname\", \"division\") \\\n",
    ".withColumnRenamed(\"regionname\", \"region\") \\\n",
    ".withColumnRenamed(\"Districtname\", \"district\") \\\n",
    ".withColumnRenamed(\"statename\", \"state\") \\\n",
    ".withColumnRenamed(\"Related Suboffice\", \"suboffice\") \\\n",
    ".withColumnRenamed(\"Related Headoffice\", \"headoffice\")"
   ]
  },
  {
   "cell_type": "code",
   "execution_count": 0,
   "metadata": {
    "application/vnd.databricks.v1+cell": {
     "cellMetadata": {},
     "inputWidgets": {},
     "nuid": "8a0eb00e-7344-4757-ae33-39e10db865dd",
     "showTitle": false,
     "title": ""
    }
   },
   "outputs": [],
   "source": [
    "pincode_df_dropcolumn = pincode_df_renamed.select(pincode_df_renamed[\"office\"], pincode_df_renamed[\"pincode\"], pincode_df_renamed[\"type\"], pincode_df_renamed[\"status\"],\n",
    "                                                  pincode_df_renamed[\"division\"], pincode_df_renamed[\"region\"], pincode_df_renamed[\"taluk\"], pincode_df_renamed[\"district\"],\n",
    "                                                  pincode_df_renamed[\"state\"], pincode_df_renamed[\"telephone\"], pincode_df_renamed[\"suboffice\"], pincode_df_renamed[\"headoffice\"])"
   ]
  },
  {
   "cell_type": "code",
   "execution_count": 0,
   "metadata": {
    "application/vnd.databricks.v1+cell": {
     "cellMetadata": {},
     "inputWidgets": {},
     "nuid": "721582c1-7731-434b-8853-2dd1b986132a",
     "showTitle": false,
     "title": ""
    }
   },
   "outputs": [],
   "source": [
    "from pyspark.sql.functions import current_timestamp"
   ]
  },
  {
   "cell_type": "code",
   "execution_count": 0,
   "metadata": {
    "application/vnd.databricks.v1+cell": {
     "cellMetadata": {},
     "inputWidgets": {},
     "nuid": "c8f04b02-37a5-43ca-b843-9723ebe512aa",
     "showTitle": false,
     "title": ""
    }
   },
   "outputs": [],
   "source": [
    "pincode_df_final = pincode_df_dropcolumn.withColumn(\"load_date\", current_timestamp())"
   ]
  },
  {
   "cell_type": "code",
   "execution_count": 0,
   "metadata": {
    "application/vnd.databricks.v1+cell": {
     "cellMetadata": {},
     "inputWidgets": {},
     "nuid": "2870c9bb-6070-4caa-aad8-36c2c97a15a3",
     "showTitle": false,
     "title": ""
    }
   },
   "outputs": [],
   "source": [
    "display(pincode_df_final.printSchema())"
   ]
  },
  {
   "cell_type": "code",
   "execution_count": 0,
   "metadata": {
    "application/vnd.databricks.v1+cell": {
     "cellMetadata": {},
     "inputWidgets": {},
     "nuid": "fbdde5b2-7b2b-406b-9504-6e2c8a1d954f",
     "showTitle": false,
     "title": ""
    }
   },
   "outputs": [],
   "source": [
    "display(pincode_df_final)"
   ]
  },
  {
   "cell_type": "code",
   "execution_count": 0,
   "metadata": {
    "application/vnd.databricks.v1+cell": {
     "cellMetadata": {},
     "inputWidgets": {},
     "nuid": "19bbbae7-6950-45f9-81db-6f1308a8c481",
     "showTitle": false,
     "title": ""
    }
   },
   "outputs": [],
   "source": [
    "pincode_df_header.printSchema()"
   ]
  },
  {
   "cell_type": "code",
   "execution_count": 0,
   "metadata": {
    "application/vnd.databricks.v1+cell": {
     "cellMetadata": {},
     "inputWidgets": {},
     "nuid": "b2a0f561-065a-427b-9e12-1747f9f2a7b6",
     "showTitle": false,
     "title": ""
    }
   },
   "outputs": [],
   "source": [
    "pincode_df_renamed = pincode_df_header.withColumnRenamed(\"officename\", \"office\") \\\n",
    ".withColumnRenamed(\"officeType\", \"type\") \\\n",
    ".withColumnRenamed(\"Deliverystatus\", \"status\") \\\n",
    ".withColumnRenamed(\"divisionname\", \"division\") \\\n",
    ".withColumnRenamed(\"regionname\", \"region\") \\\n",
    ".withColumnRenamed(\"Districtname\", \"district\") \\\n",
    ".withColumnRenamed(\"statename\", \"state\") \\\n",
    ".withColumnRenamed(\"Telephone\", \"telephone\") \\\n",
    ".withColumnRenamed(\"Related Suboffice\", \"suboffice\") \\\n",
    ".withColumnRenamed(\"Related Headoffice\", \"headoffice\")"
   ]
  },
  {
   "cell_type": "code",
   "execution_count": 0,
   "metadata": {
    "application/vnd.databricks.v1+cell": {
     "cellMetadata": {},
     "inputWidgets": {},
     "nuid": "f706d914-a2d4-4c33-a740-26c281ed4409",
     "showTitle": false,
     "title": ""
    }
   },
   "outputs": [],
   "source": [
    "pincode_df_final.write.parquet(\"/mnt/goverencedl/processed/pincode_master\")"
   ]
  },
  {
   "cell_type": "code",
   "execution_count": 0,
   "metadata": {
    "application/vnd.databricks.v1+cell": {
     "cellMetadata": {},
     "inputWidgets": {},
     "nuid": "28d6eb3a-cfa0-4b88-a3ef-3c641b579be4",
     "showTitle": false,
     "title": ""
    }
   },
   "outputs": [],
   "source": [
    "pincode_df_dropcolumn = pincode_df_renamed.select(pincode_df_renamed[\"office\"], pincode_df_renamed[\"pincode\"], pincode_df_renamed[\"type\"], pincode_df_renamed[\"status\"],\n",
    "                                                  pincode_df_renamed[\"division\"], pincode_df_renamed[\"region\"], pincode_df_renamed[\"taluk\"], pincode_df_renamed[\"district\"],\n",
    "                                                  pincode_df_renamed[\"state\"], pincode_df_renamed[\"telephone\"], pincode_df_renamed[\"suboffice\"], pincode_df_renamed[\"headoffice\"])     "
   ]
  },
  {
   "cell_type": "code",
   "execution_count": 0,
   "metadata": {
    "application/vnd.databricks.v1+cell": {
     "cellMetadata": {},
     "inputWidgets": {},
     "nuid": "0a4d7a3c-39b0-43e7-8fba-8521feb18b45",
     "showTitle": false,
     "title": ""
    }
   },
   "outputs": [],
   "source": [
    "pincode_df_final.write.partitionBy('state').parquet(\"/mnt/goverencedl/processed/pincode_master_partition\")"
   ]
  },
  {
   "cell_type": "code",
   "execution_count": 0,
   "metadata": {
    "application/vnd.databricks.v1+cell": {
     "cellMetadata": {},
     "inputWidgets": {},
     "nuid": "5bbc9c34-6c5f-4364-9594-be8bf4eb16fb",
     "showTitle": false,
     "title": ""
    }
   },
   "outputs": [],
   "source": [
    "from pyspark.sql.functions import current_timestamp, when"
   ]
  },
  {
   "cell_type": "code",
   "execution_count": 0,
   "metadata": {
    "application/vnd.databricks.v1+cell": {
     "cellMetadata": {},
     "inputWidgets": {},
     "nuid": "8fec883a-84da-4a23-9f28-7a87f8dcc89d",
     "showTitle": false,
     "title": ""
    }
   },
   "outputs": [],
   "source": [
    "display(spark.read.parquet(\"/mnt/goverencedl/processed/pincode_master_partition\"))"
   ]
  },
  {
   "cell_type": "code",
   "execution_count": 0,
   "metadata": {
    "application/vnd.databricks.v1+cell": {
     "cellMetadata": {},
     "inputWidgets": {},
     "nuid": "f7659d98-9af9-4a71-8d23-d42eaba6a97a",
     "showTitle": false,
     "title": ""
    }
   },
   "outputs": [],
   "source": [
    "pincode_df_final = pincode_df_dropcolumn.withColumn(\"load_date\", current_timestamp())                                        "
   ]
  },
  {
   "cell_type": "code",
   "execution_count": 0,
   "metadata": {
    "application/vnd.databricks.v1+cell": {
     "cellMetadata": {},
     "inputWidgets": {},
     "nuid": "2f4dc100-d0cc-4138-bb05-972484ac1b71",
     "showTitle": false,
     "title": ""
    }
   },
   "outputs": [],
   "source": [
    "pincode_df_final = pincode_df_final.withColumn(\"status\", when(pincode_df_final.status == \"Non-Delivery\", \"NonDelivery\").otherwise(pincode_df_final.status))"
   ]
  },
  {
   "cell_type": "code",
   "execution_count": 0,
   "metadata": {
    "application/vnd.databricks.v1+cell": {
     "cellMetadata": {},
     "inputWidgets": {},
     "nuid": "1e679316-67b4-4577-9769-dde65416ccb2",
     "showTitle": false,
     "title": ""
    }
   },
   "outputs": [],
   "source": [
    "display(pincode_df_final)"
   ]
  },
  {
   "cell_type": "code",
   "execution_count": 0,
   "metadata": {
    "application/vnd.databricks.v1+cell": {
     "cellMetadata": {},
     "inputWidgets": {},
     "nuid": "c3ea2763-f495-4997-878b-664a74d324e2",
     "showTitle": false,
     "title": ""
    }
   },
   "outputs": [],
   "source": [
    "display(spark.read.parquet(\"/mnt/goverencedl/processed/pincode_master\"))"
   ]
  },
  {
   "cell_type": "code",
   "execution_count": 0,
   "metadata": {
    "application/vnd.databricks.v1+cell": {
     "cellMetadata": {},
     "inputWidgets": {},
     "nuid": "0287a7cf-64f7-4a07-92c3-777dbad02003",
     "showTitle": false,
     "title": ""
    }
   },
   "outputs": [],
   "source": [
    "pincode_df_final.write.parquet(\"/mnt/goverencedl/processed/pincode_master\")"
   ]
  },
  {
   "cell_type": "code",
   "execution_count": 0,
   "metadata": {
    "application/vnd.databricks.v1+cell": {
     "cellMetadata": {},
     "inputWidgets": {},
     "nuid": "96a4c7f5-20c7-465c-9f54-b16a1690870d",
     "showTitle": false,
     "title": ""
    }
   },
   "outputs": [],
   "source": [
    "pincode_df_final.write.mode(\"overwrite\").partitionBy('state').parquet(\"/mnt/goverencedl/processed/pincode_master_partition\")"
   ]
  },
  {
   "cell_type": "code",
   "execution_count": 0,
   "metadata": {
    "application/vnd.databricks.v1+cell": {
     "cellMetadata": {},
     "inputWidgets": {},
     "nuid": "ea9a3121-7901-4bbd-8841-078d8e057913",
     "showTitle": false,
     "title": ""
    }
   },
   "outputs": [],
   "source": [
    "display(spark.read.parquet(\"/mnt/goverencedl/processed/pincode_master_partition\").filter(\"state = 'BIHAR'\"))"
   ]
  }
 ],
 "metadata": {
  "application/vnd.databricks.v1+notebook": {
   "dashboards": [],
   "language": "python",
   "notebookMetadata": {
    "pythonIndentUnit": 4
   },
   "notebookName": "1_Ingest_All_India_Pincode_DataSet",
   "widgets": {}
  }
 },
 "nbformat": 4,
 "nbformat_minor": 0
}
