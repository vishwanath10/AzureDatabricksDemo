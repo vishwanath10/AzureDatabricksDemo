{
 "cells": [
  {
   "cell_type": "markdown",
   "metadata": {
    "application/vnd.databricks.v1+cell": {
     "cellMetadata": {},
     "inputWidgets": {},
     "nuid": "e5f77c17-f50d-49d5-b7ee-a805089aa998",
     "showTitle": false,
     "title": ""
    }
   },
   "source": [
    "#### Ingest all_india_pincode_ds.csv"
   ]
  },
  {
   "cell_type": "markdown",
   "metadata": {
    "application/vnd.databricks.v1+cell": {
     "cellMetadata": {},
     "inputWidgets": {},
     "nuid": "437e1ace-88c0-4837-8688-2c4eeb473854",
     "showTitle": false,
     "title": ""
    }
   },
   "source": [
    "####Read CSV file using Dataframe Reader API & Write to Parquet file using Dataframe Writer API\n",
    "\n",
    "1. Read the CSV file into a dataframe\n",
    "2. Fix the header \n",
    "3. Create a explicit schema\n",
    "4. Rename columns\n",
    "5. Drop Columns\n",
    "6. Insert a new column\n",
    "7. write data to single Parquet file\n",
    "8. write data to multiple Parquet file"
   ]
  },
  {
   "cell_type": "code",
   "execution_count": 0,
   "metadata": {
    "application/vnd.databricks.v1+cell": {
     "cellMetadata": {
      "byteLimit": 2048000,
      "rowLimit": 10000
     },
     "inputWidgets": {},
     "nuid": "bebb0eab-301f-462d-adb6-f600e4a052dd",
     "showTitle": false,
     "title": ""
    }
   },
   "outputs": [],
   "source": [
    "display(dbutils.fs.mounts())"
   ]
  },
  {
   "cell_type": "code",
   "execution_count": 0,
   "metadata": {
    "application/vnd.databricks.v1+cell": {
     "cellMetadata": {
      "byteLimit": 2048000,
      "rowLimit": 10000
     },
     "inputWidgets": {},
     "nuid": "71c0032e-5085-4d45-a209-2ca5d723d175",
     "showTitle": false,
     "title": ""
    }
   },
   "outputs": [],
   "source": [
    "pincode_df = spark.read.csv(\"/mnt/goverencedl/raw/all_india_pincode_ds.csv\")"
   ]
  },
  {
   "cell_type": "code",
   "execution_count": 0,
   "metadata": {
    "application/vnd.databricks.v1+cell": {
     "cellMetadata": {
      "byteLimit": 2048000,
      "rowLimit": 10000
     },
     "inputWidgets": {},
     "nuid": "b25aa04c-42b2-4350-879a-9dcc3142b55b",
     "showTitle": false,
     "title": ""
    }
   },
   "outputs": [],
   "source": [
    "display(pincode_df)"
   ]
  },
  {
   "cell_type": "code",
   "execution_count": 0,
   "metadata": {
    "application/vnd.databricks.v1+cell": {
     "cellMetadata": {
      "byteLimit": 2048000,
      "rowLimit": 10000
     },
     "inputWidgets": {},
     "nuid": "002c1da4-814d-409c-a847-2b89c601479e",
     "showTitle": false,
     "title": ""
    }
   },
   "outputs": [],
   "source": [
    "pincode_df = spark.read.option(\"header\", True).csv(\"/mnt/goverencedl/raw/all_india_pincode_ds.csv\")"
   ]
  },
  {
   "cell_type": "code",
   "execution_count": 0,
   "metadata": {
    "application/vnd.databricks.v1+cell": {
     "cellMetadata": {
      "byteLimit": 2048000,
      "rowLimit": 10000
     },
     "inputWidgets": {},
     "nuid": "e592bff6-dcf3-4cc6-8d26-03af5adf8d66",
     "showTitle": false,
     "title": ""
    }
   },
   "outputs": [],
   "source": [
    "display(pincode_df)"
   ]
  },
  {
   "cell_type": "code",
   "execution_count": 0,
   "metadata": {
    "application/vnd.databricks.v1+cell": {
     "cellMetadata": {
      "byteLimit": 2048000,
      "rowLimit": 10000
     },
     "inputWidgets": {},
     "nuid": "c941e02b-66b4-496f-928b-7b8f65eec686",
     "showTitle": false,
     "title": ""
    }
   },
   "outputs": [],
   "source": [
    "pincode_df.printSchema()"
   ]
  },
  {
   "cell_type": "code",
   "execution_count": 0,
   "metadata": {
    "application/vnd.databricks.v1+cell": {
     "cellMetadata": {
      "byteLimit": 2048000,
      "rowLimit": 10000
     },
     "inputWidgets": {},
     "nuid": "ee038ec2-8c94-4dd3-aeed-dd08696392de",
     "showTitle": false,
     "title": ""
    }
   },
   "outputs": [],
   "source": [
    "from pyspark.sql.types import StructType, StructField, IntegerType, StringType"
   ]
  },
  {
   "cell_type": "code",
   "execution_count": 0,
   "metadata": {
    "application/vnd.databricks.v1+cell": {
     "cellMetadata": {
      "byteLimit": 2048000,
      "rowLimit": 10000
     },
     "inputWidgets": {},
     "nuid": "8377d1db-7174-4980-8377-8a74fb39ac5f",
     "showTitle": false,
     "title": ""
    }
   },
   "outputs": [],
   "source": [
    "pincode_schema = StructType (fields=[StructField(\"officename\", StringType(), False),\n",
    "                                     StructField(\"pincode\", IntegerType(), False),\n",
    "                                     StructField(\"officeType\", StringType(), False),\n",
    "                                     StructField(\"Deliverystatus\", StringType(), False),\n",
    "                                     StructField(\"divisionname\", StringType(), False),\n",
    "                                     StructField(\"regionname\", StringType(), False),\n",
    "                                     StructField(\"circlename\", StringType(), False),\n",
    "                                     StructField(\"Taluk\", StringType(), False),\n",
    "                                     StructField(\"Districtname\", StringType(), False),\n",
    "                                     StructField(\"statename\", StringType(), False),\n",
    "                                     StructField(\"Related Suboffice\", StringType(), False),\n",
    "                                     StructField(\"Related Headoffice\", StringType(), False),\n",
    "                                     StructField(\"longitude\", StringType(), False),\n",
    "                                     StructField(\"latitude\", StringType(), False)\n",
    "])"
   ]
  },
  {
   "cell_type": "code",
   "execution_count": 0,
   "metadata": {
    "application/vnd.databricks.v1+cell": {
     "cellMetadata": {
      "byteLimit": 2048000,
      "rowLimit": 10000
     },
     "inputWidgets": {},
     "nuid": "e632b6c6-1d18-4574-95bf-15ab2512072e",
     "showTitle": false,
     "title": ""
    }
   },
   "outputs": [],
   "source": [
    "pincode_df = spark.read \\\n",
    "    .option(\"header\", True) \\\n",
    "    .schema(pincode_schema) \\\n",
    "    .csv(\"/mnt/goverencedl/raw/all_india_pincode_ds.csv\")"
   ]
  },
  {
   "cell_type": "code",
   "execution_count": 0,
   "metadata": {
    "application/vnd.databricks.v1+cell": {
     "cellMetadata": {
      "byteLimit": 2048000,
      "rowLimit": 10000
     },
     "inputWidgets": {},
     "nuid": "759fed80-dd9e-40be-a95a-8a28ab02a104",
     "showTitle": false,
     "title": ""
    }
   },
   "outputs": [],
   "source": [
    "pincode_df_renamed = pincode_df.withColumnRenamed(\"officename\", \"office\") \\\n",
    ".withColumnRenamed(\"officeType\", \"type\") \\\n",
    ".withColumnRenamed(\"Deliverystatus\", \"status\") \\\n",
    ".withColumnRenamed(\"divisionname\", \"division\") \\\n",
    ".withColumnRenamed(\"regionname\", \"region\") \\\n",
    ".withColumnRenamed(\"Districtname\", \"district\") \\\n",
    ".withColumnRenamed(\"statename\", \"state\") \\\n",
    ".withColumnRenamed(\"Related Suboffice\", \"suboffice\") \\\n",
    ".withColumnRenamed(\"Related Headoffice\", \"headoffice\")"
   ]
  },
  {
   "cell_type": "code",
   "execution_count": 0,
   "metadata": {
    "application/vnd.databricks.v1+cell": {
     "cellMetadata": {
      "byteLimit": 2048000,
      "rowLimit": 10000
     },
     "inputWidgets": {},
     "nuid": "e311800d-a9ea-4ecb-873b-2014e007233a",
     "showTitle": false,
     "title": ""
    }
   },
   "outputs": [],
   "source": [
    "pincode_df_dropcolumn = pincode_df_renamed.select(pincode_df_renamed[\"office\"], pincode_df_renamed[\"pincode\"], pincode_df_renamed[\"type\"], pincode_df_renamed[\"status\"],\n",
    "                                                  pincode_df_renamed[\"division\"], pincode_df_renamed[\"region\"], pincode_df_renamed[\"taluk\"], pincode_df_renamed[\"district\"],\n",
    "                                                  pincode_df_renamed[\"state\"], pincode_df_renamed[\"telephone\"], pincode_df_renamed[\"suboffice\"], pincode_df_renamed[\"headoffice\"])"
   ]
  },
  {
   "cell_type": "code",
   "execution_count": 0,
   "metadata": {
    "application/vnd.databricks.v1+cell": {
     "cellMetadata": {
      "byteLimit": 2048000,
      "rowLimit": 10000
     },
     "inputWidgets": {},
     "nuid": "74960a66-57b3-4f6b-8c24-a0cbcd1e9b4c",
     "showTitle": false,
     "title": ""
    }
   },
   "outputs": [],
   "source": [
    "from pyspark.sql.functions import current_timestamp"
   ]
  },
  {
   "cell_type": "code",
   "execution_count": 0,
   "metadata": {
    "application/vnd.databricks.v1+cell": {
     "cellMetadata": {
      "byteLimit": 2048000,
      "rowLimit": 10000
     },
     "inputWidgets": {},
     "nuid": "cf8cf432-200f-4b95-a36e-182c1c0c0f9f",
     "showTitle": false,
     "title": ""
    }
   },
   "outputs": [],
   "source": [
    "pincode_df_final = pincode_df_dropcolumn.withColumn(\"load_date\", current_timestamp())"
   ]
  },
  {
   "cell_type": "code",
   "execution_count": 0,
   "metadata": {
    "application/vnd.databricks.v1+cell": {
     "cellMetadata": {
      "byteLimit": 2048000,
      "rowLimit": 10000
     },
     "inputWidgets": {},
     "nuid": "6fb0133a-18dc-4138-9a86-4261cb28fee0",
     "showTitle": false,
     "title": ""
    }
   },
   "outputs": [],
   "source": [
    "display(pincode_df_final.printSchema())"
   ]
  },
  {
   "cell_type": "code",
   "execution_count": 0,
   "metadata": {
    "application/vnd.databricks.v1+cell": {
     "cellMetadata": {
      "byteLimit": 2048000,
      "rowLimit": 10000
     },
     "inputWidgets": {},
     "nuid": "cd1c9951-328f-4833-99ad-419b9d948c5c",
     "showTitle": false,
     "title": ""
    }
   },
   "outputs": [],
   "source": [
    "display(pincode_df_final)"
   ]
  },
  {
   "cell_type": "code",
   "execution_count": 0,
   "metadata": {
    "application/vnd.databricks.v1+cell": {
     "cellMetadata": {
      "byteLimit": 2048000,
      "rowLimit": 10000
     },
     "inputWidgets": {},
     "nuid": "16147f80-562d-4797-8afb-ab9f69040d00",
     "showTitle": false,
     "title": ""
    }
   },
   "outputs": [],
   "source": [
    "pincode_df_final.write.parquet(\"/mnt/goverencedl/processed/pincode_master\")"
   ]
  },
  {
   "cell_type": "code",
   "execution_count": 0,
   "metadata": {
    "application/vnd.databricks.v1+cell": {
     "cellMetadata": {
      "byteLimit": 2048000,
      "rowLimit": 10000
     },
     "inputWidgets": {},
     "nuid": "b0584551-8f95-4465-bc2b-3d2b09d5a5b7",
     "showTitle": false,
     "title": ""
    }
   },
   "outputs": [],
   "source": [
    "pincode_df_final.write.partitionBy('state').parquet(\"/mnt/goverencedl/processed/pincode_master_partition\")"
   ]
  },
  {
   "cell_type": "code",
   "execution_count": 0,
   "metadata": {
    "application/vnd.databricks.v1+cell": {
     "cellMetadata": {
      "byteLimit": 2048000,
      "rowLimit": 10000
     },
     "inputWidgets": {},
     "nuid": "9dd83724-b783-49be-ada1-db19e67a045d",
     "showTitle": false,
     "title": ""
    }
   },
   "outputs": [],
   "source": [
    "display(spark.read.parquet(\"/mnt/goverencedl/processed/pincode_master_partition\"))"
   ]
  },
  {
   "cell_type": "code",
   "execution_count": 0,
   "metadata": {
    "application/vnd.databricks.v1+cell": {
     "cellMetadata": {
      "byteLimit": 2048000,
      "rowLimit": 10000
     },
     "inputWidgets": {},
     "nuid": "8bd28014-539b-4f66-a5a7-03a1359ae056",
     "showTitle": false,
     "title": ""
    }
   },
   "outputs": [],
   "source": [
    "display(spark.read.parquet(\"/mnt/goverencedl/processed/pincode_master\"))"
   ]
  }
 ],
 "metadata": {
  "application/vnd.databricks.v1+notebook": {
   "dashboards": [],
   "language": "python",
   "notebookMetadata": {
    "pythonIndentUnit": 4
   },
   "notebookName": "1_Ingest_All_India_Pincode_DataSet",
   "widgets": {}
  }
 },
 "nbformat": 4,
 "nbformat_minor": 0
}
